{
  "nbformat": 4,
  "nbformat_minor": 0,
  "metadata": {
    "colab": {
      "provenance": []
    },
    "kernelspec": {
      "name": "python3",
      "display_name": "Python 3"
    },
    "language_info": {
      "name": "python"
    }
  },
  "cells": [
    {
      "cell_type": "code",
      "execution_count": 3,
      "metadata": {
        "colab": {
          "base_uri": "https://localhost:8080/"
        },
        "id": "ZP6k_Q12NgKe",
        "outputId": "3b0bdd7c-fcbf-45f4-fff9-bf6393e2c812"
      },
      "outputs": [
        {
          "output_type": "stream",
          "name": "stdout",
          "text": [
            "Sum of even numbers: 12\n"
          ]
        }
      ],
      "source": [
        "# 1. Write a Python function that takes a list of numbers as input and returns the sum of all even numbers in the list.\n",
        "\n",
        "def sum_of_even_numbers(numbers):\n",
        "\n",
        "  even_sum = 0\n",
        "  for number in numbers:\n",
        "    if number % 2 == 0:\n",
        "      even_sum += number\n",
        "  return even_sum\n",
        "\n",
        "my_list = [1, 2, 3, 4, 5, 6]\n",
        "result = sum_of_even_numbers(my_list)\n",
        "print(\"Sum of even numbers:\", result)"
      ]
    },
    {
      "cell_type": "code",
      "source": [
        "# 2. Create a Python function that accepts a string and returns the reverse of that string.\n",
        "\n",
        "def reverse_string(s):\n",
        "    return s[::-1]\n",
        "text = \"Hello, world!\"\n",
        "reversed_text = reverse_string(text)\n",
        "print(\"Reversed string:\", reversed_text)\n"
      ],
      "metadata": {
        "colab": {
          "base_uri": "https://localhost:8080/"
        },
        "id": "Ww6WCJonNzr-",
        "outputId": "8b991cb8-c0bc-4583-b1e9-86c333c0426c"
      },
      "execution_count": 4,
      "outputs": [
        {
          "output_type": "stream",
          "name": "stdout",
          "text": [
            "Reversed string: !dlrow ,olleH\n"
          ]
        }
      ]
    },
    {
      "cell_type": "code",
      "source": [
        "#3. Implement a Python function that takes a list of integers and returns a new list containing the squares of each number.\n",
        "\n",
        "\n",
        "def square_numbers(numbers):\n",
        "    return [num ** 2 for num in numbers]\n",
        "\n",
        "my_list = [1, 2, 3, 4, 5]\n",
        "squared_list = square_numbers(my_list)\n",
        "print(\"Squared list:\", squared_list)\n"
      ],
      "metadata": {
        "colab": {
          "base_uri": "https://localhost:8080/"
        },
        "id": "mP8ELou5Oi4j",
        "outputId": "f0f15973-bf31-4d4d-9bdc-38161f0e8277"
      },
      "execution_count": 5,
      "outputs": [
        {
          "output_type": "stream",
          "name": "stdout",
          "text": [
            "Squared list: [1, 4, 9, 16, 25]\n"
          ]
        }
      ]
    },
    {
      "cell_type": "code",
      "source": [
        "# 4. Write a Python function that checks if a given number is prime or not from 1 to 200.\n",
        "\n",
        "def is_prime(n):\n",
        "    if n < 2 or n > 200:\n",
        "        return False  # Not in the range 2 to 200\n",
        "    for i in range(2, int(n ** 0.5) + 1):\n",
        "        if n % i == 0:\n",
        "            return False\n",
        "    return True\n",
        "for number in range(1, 21):\n",
        "    print(f\"{number} is prime? {is_prime(number)}\")\n"
      ],
      "metadata": {
        "colab": {
          "base_uri": "https://localhost:8080/"
        },
        "id": "MVpP1Y37O18j",
        "outputId": "c22c34ac-9096-4249-ae22-7836a6311472"
      },
      "execution_count": 6,
      "outputs": [
        {
          "output_type": "stream",
          "name": "stdout",
          "text": [
            "1 is prime? False\n",
            "2 is prime? True\n",
            "3 is prime? True\n",
            "4 is prime? False\n",
            "5 is prime? True\n",
            "6 is prime? False\n",
            "7 is prime? True\n",
            "8 is prime? False\n",
            "9 is prime? False\n",
            "10 is prime? False\n",
            "11 is prime? True\n",
            "12 is prime? False\n",
            "13 is prime? True\n",
            "14 is prime? False\n",
            "15 is prime? False\n",
            "16 is prime? False\n",
            "17 is prime? True\n",
            "18 is prime? False\n",
            "19 is prime? True\n",
            "20 is prime? False\n"
          ]
        }
      ]
    },
    {
      "cell_type": "code",
      "source": [
        "# 5. Create an iterator class in Python that generates the Fibonacci sequence up to a specified number of terms.\n",
        "\n",
        "class FibonacciIterator:\n",
        "    def __init__(self, max_terms):\n",
        "        self.max_terms = max_terms\n",
        "        self.count = 0\n",
        "        self.a, self.b = 0, 1\n",
        "\n",
        "    def __iter__(self):\n",
        "        return self\n",
        "\n",
        "    def __next__(self):\n",
        "        if self.count >= self.max_terms:\n",
        "            raise StopIteration\n",
        "        if self.count == 0:\n",
        "            self.count += 1\n",
        "            return 0\n",
        "        elif self.count == 1:\n",
        "            self.count += 1\n",
        "            return 1\n",
        "        else:\n",
        "            self.count += 1\n",
        "            self.a, self.b = self.b, self.a + self.b\n",
        "            return self.a\n",
        "fib = FibonacciIterator(10)\n",
        "for num in fib:\n",
        "    print(num)\n"
      ],
      "metadata": {
        "colab": {
          "base_uri": "https://localhost:8080/"
        },
        "id": "g-tBPfOvPHwq",
        "outputId": "d4c8c189-9bc2-4dce-9e97-55332749f3c7"
      },
      "execution_count": 7,
      "outputs": [
        {
          "output_type": "stream",
          "name": "stdout",
          "text": [
            "0\n",
            "1\n",
            "1\n",
            "1\n",
            "2\n",
            "3\n",
            "5\n",
            "8\n",
            "13\n",
            "21\n"
          ]
        }
      ]
    },
    {
      "cell_type": "code",
      "source": [
        "# 6. Write a generator function in Python that yields the powers of 2 up to a given exponent.\n",
        "\n",
        "def powers_of_2(exponent):\n",
        "    for i in range(exponent + 1):\n",
        "        yield 2 ** i\n",
        "for power in powers_of_2(5):\n",
        "    print(power)\n"
      ],
      "metadata": {
        "colab": {
          "base_uri": "https://localhost:8080/"
        },
        "id": "VPKmEJ2GP4YZ",
        "outputId": "a50f4e52-dc19-49cf-f5be-1a3e7c81894d"
      },
      "execution_count": 8,
      "outputs": [
        {
          "output_type": "stream",
          "name": "stdout",
          "text": [
            "1\n",
            "2\n",
            "4\n",
            "8\n",
            "16\n",
            "32\n"
          ]
        }
      ]
    },
    {
      "cell_type": "code",
      "source": [
        "# 7. Implement a generator function that reads a file line by line and yields each line as a string.\n",
        "\n",
        "def read_file_lines(file_path):\n",
        "    with open(file_path, 'r') as file:\n",
        "        for line in file:\n",
        "            yield line.strip()\n"
      ],
      "metadata": {
        "id": "JC6pewyOQScC"
      },
      "execution_count": 12,
      "outputs": []
    },
    {
      "cell_type": "code",
      "source": [
        "# 8. Use a lambda function in Python to sort a list of tuples based on the second element of each tuple.\n",
        "\n",
        "my_list = [(1, 3), (4, 1), (2, 5), (9, 0)]\n",
        "\n",
        "sorted_list = sorted(my_list, key=lambda x: x[1])\n",
        "\n",
        "print(sorted_list)\n"
      ],
      "metadata": {
        "colab": {
          "base_uri": "https://localhost:8080/"
        },
        "id": "TUxEk5UoRSiy",
        "outputId": "df8d7986-9fd4-496c-bcc5-3e29fd525f38"
      },
      "execution_count": 14,
      "outputs": [
        {
          "output_type": "stream",
          "name": "stdout",
          "text": [
            "[(9, 0), (4, 1), (1, 3), (2, 5)]\n"
          ]
        }
      ]
    },
    {
      "cell_type": "code",
      "source": [
        "# 9. Write a Python program that uses map() to convert a list of temperatures from Celsius to Fahrenheit.\n",
        "\n",
        "# List of temperatures in Celsius\n",
        "celsius_temps = [0, 20, 30, 37, 100]\n",
        "\n",
        "# Convert to Fahrenheit using map() and a lambda function\n",
        "fahrenheit_temps = list(map(lambda c: (c * 9/5) + 32, celsius_temps))\n",
        "\n",
        "# Print the result\n",
        "print(\"Temperatures in Fahrenheit:\", fahrenheit_temps)\n"
      ],
      "metadata": {
        "colab": {
          "base_uri": "https://localhost:8080/"
        },
        "id": "PuzdmZbHRlRb",
        "outputId": "64d822e6-52e5-4c08-d89f-3ae1d03ab04b"
      },
      "execution_count": 15,
      "outputs": [
        {
          "output_type": "stream",
          "name": "stdout",
          "text": [
            "Temperatures in Fahrenheit: [32.0, 68.0, 86.0, 98.6, 212.0]\n"
          ]
        }
      ]
    },
    {
      "cell_type": "code",
      "source": [
        "# 10. Create a Python program that uses `filter()` to remove all the vowels from a given string.\n",
        "\n",
        "def remove_vowels(s):\n",
        "    vowels = \"aeiouAEIOU\"\n",
        "    return ''.join(filter(lambda char: char not in vowels, s))\n",
        "\n",
        "# Example usage\n",
        "input_str = \"Hello, OpenAI!\"\n",
        "result = remove_vowels(input_str)\n",
        "print(result)\n"
      ],
      "metadata": {
        "colab": {
          "base_uri": "https://localhost:8080/"
        },
        "id": "Ieki3ki1R4vC",
        "outputId": "6b18a908-6ead-404d-c042-b51fb24bc826"
      },
      "execution_count": 16,
      "outputs": [
        {
          "output_type": "stream",
          "name": "stdout",
          "text": [
            "Hll, pn!\n"
          ]
        }
      ]
    },
    {
      "cell_type": "code",
      "source": [
        "#11 11) Imagine an accounting routine used in a book shop. It works on a list with sublists, which look like this:\n",
        "\n",
        "'''Write a Python program, which returns a list with 2-tuples. Each tuple consists of the order number and the\n",
        "product of the price per item and the quantity. The product should be increased by 10,- € if the value of the\n",
        "order is smaller than 100,00 €.\n",
        "\n",
        "Write a Python program using lambda and map'''\n",
        "\n",
        "orders = [\n",
        "    [34587, \"Learning Python, Mark Lutz\", 4, 40.95],\n",
        "    [98762, \"Programming Python, Mark Lutz\", 5, 56.80],\n",
        "    [77226, \"Head First Python, Paul Barry\", 3, 32.95],\n",
        "    [88112, \"Einführung in Python3, Bernd Klein\", 3, 24.99]\n",
        "]\n",
        "\n",
        "# Create the result using map and lambda\n",
        "result = list(map(\n",
        "    lambda order: (order[0], order[2] * order[3] if order[2] * order[3] >= 100 else order[2] * order[3] + 10),\n",
        "    orders\n",
        "))\n",
        "\n",
        "print(result)"
      ],
      "metadata": {
        "colab": {
          "base_uri": "https://localhost:8080/"
        },
        "id": "4EJt0ZvNSRQq",
        "outputId": "a2092c8c-bb2a-4d61-f297-e623f3e2a704"
      },
      "execution_count": 19,
      "outputs": [
        {
          "output_type": "stream",
          "name": "stdout",
          "text": [
            "[(34587, 163.8), (98762, 284.0), (77226, 108.85000000000001), (88112, 84.97)]\n"
          ]
        }
      ]
    },
    {
      "cell_type": "markdown",
      "source": [
        "Functions Theory"
      ],
      "metadata": {
        "id": "iniY-iqIUxfM"
      }
    },
    {
      "cell_type": "markdown",
      "source": [
        "1. What is the difference between a function and a method in Python?\n",
        "\n",
        "ANSWER-- In Python, functions and methods are both blocks of reusable code, but there is a key difference between them based on how and where they're defined:\n",
        "\n",
        " .Function\n",
        "A function is a standalone block of code defined using the def keyword (or lambda) that is not associated with an object or class instance unless explicitly passed.\n",
        "\n",
        " Example:\n",
        "def greet(name):\n",
        "    return f\"Hello, {name}!\"\n",
        "\n",
        "print(greet(\"Alice\"))\n",
        " Here, greet is a function. It can be called independently.\n",
        "\n",
        ". Method\n",
        "A method is a function that is associated with an object. It is defined inside a class and operates on instances of that class. It takes self as its first parameter (for instance methods), which refers to the object calling the method.\n",
        "\n",
        "Example:\n",
        "class Greeter:\n",
        "    def greet(self, name):\n",
        "        return f\"Hello, {name}!\"\n",
        "\n",
        "g = Greeter()\n",
        "print(g.greet(\"Bob\"))\n",
        "Here, greet is a method of the Greeter class, and it needs to be called on an instance of that class (g)."
      ],
      "metadata": {
        "id": "oqQehS7rU-c9"
      }
    },
    {
      "cell_type": "markdown",
      "source": [
        "QUESTION 2. Explain the concept of function arguments and parameters in Python.\n",
        "\n",
        "Answer-- In Python, function arguments and parameters are fundamental concepts used in defining and calling functions. Though often used interchangeably, they have distinct meanings.\n",
        "\n",
        "🔹 Parameters vs Arguments\n",
        "Parameters are the placeholders listed in the function definition.\n",
        "\n",
        "Arguments are the actual values passed to the function when it is called.\n",
        "\n",
        "def greet(name):  # 'name' is a parameter\n",
        "    print(f\"Hello, {name}!\")\n",
        "    \n",
        "greet(\"Alice\")  # \"Alice\" is an argumets\n",
        "In Python, function arguments and parameters are fundamental concepts used in defining and calling functions. Though often used interchangeably, they have distinct meanings.\n",
        "\n",
        "🔹 Parameters vs Arguments\n",
        "Parameters are the placeholders listed in the function definition.\n",
        "\n",
        "Arguments are the actual values passed to the function when it is called.\n",
        "Example:\n",
        "def greet(name):  # 'name' is a parameter\n",
        "    print(f\"Hello, {name}!\")\n",
        "    \n",
        "greet(\"Alice\")  # \"Alice\" is an argument\n",
        "🔹 Types of Arguments in Python:\n",
        "Python supports several ways to pass arguments:\n",
        "\n",
        "1. Positional Arguments\n",
        "Arguments are passed in order.\n",
        "\n",
        "def add(a, b):\n",
        "    return a + b\n",
        "\n",
        "print(add(2, 3))  # Output: 5\n",
        "2. Keyword Arguments\n",
        "You specify which parameter gets which value by name.\n",
        "\n",
        "def introduce(name, age):\n",
        "    print(f\"My name is {name} and I am {age} years old.\")\n",
        "\n",
        "introduce(age=25, name=\"Bob\")  # Order doesn’t matter\n",
        "3. Default Arguments\n",
        "You can assign default values to parameters.\n",
        "\n",
        "def greet(name=\"Guest\"):\n",
        "    print(f\"Hello, {name}!\")\n",
        "\n",
        "greet()          # Output: Hello, Guest!\n",
        "greet(\"Maya\")    # Output: Hello, Maya!\n",
        "4. Variable-length Arguments\n",
        "a. *args – for multiple positional arguments:\n",
        "def total(*numbers):\n",
        "    return sum(numbers)\n",
        "\n",
        "print(total(1, 2, 3, 4))  # Output: 10\n",
        "b. **kwargs – for multiple keyword arguments:\n",
        "def describe(**info):\n",
        "    for key, value in info.items():\n",
        "        print(f\"{key}: {value}\")\n",
        "\n",
        "describe(name=\"Sam\", age=30, city=\"Paris\")"
      ],
      "metadata": {
        "id": "LbhyJLeqVPvr"
      }
    },
    {
      "cell_type": "markdown",
      "source": [
        "QUESTION 3. What are the different ways to define and call a function in Python?\n",
        "Answer-- 1. Using def keyword (Standard Function Definition)\n",
        "python\n",
        "\n",
        "def say_hello():\n",
        "    print(\"Hello!\")\n",
        "\n",
        "say_hello()  # Function call\n",
        "\n",
        "2. Function with Parameters\n",
        "python\n",
        "\n",
        "def greet(name):\n",
        "    print(f\"Hello, {name}!\")\n",
        "\n",
        "greet(\"Alice\")  # Call with argument\n",
        "\n",
        "3. Function with Return Value\n",
        "python\n",
        "\n",
        "def add(a, b):\n",
        "    return a + b\n",
        "\n",
        "result = add(3, 5)\n",
        "print(result)  # Output: 8\n",
        "\n",
        "4. Using Default Parameters\n",
        "python\n",
        "\n",
        "def welcome(name=\"Guest\"):\n",
        "    print(f\"Welcome, {name}!\")\n",
        "\n",
        "welcome()           # Output: Welcome, Guest!\n",
        "welcome(\"Ravi\")     # Output: Welcome, Ravi!\n",
        "\n",
        "\n",
        "5. Using *args (Variable-Length Positional Arguments)\n",
        "python\n",
        "\n",
        "def show_numbers(*args):\n",
        "    for num in args:\n",
        "        print(num)\n",
        "\n",
        "show_numbers(1, 2, 3, 4)\n",
        "6. Using **kwargs (Variable-Length Keyword Arguments)\n",
        "python\n",
        "\n",
        "def display_info(**kwargs):\n",
        "    for key, value in kwargs.items():\n",
        "        print(f\"{key}: {value}\")\n",
        "\n",
        "display_info(name=\"John\", age=30)\n",
        "7. Lambda Functions (Anonymous functions)\n",
        "Used for short, one-line functions.\n",
        "\n",
        "\n",
        "square = lambda x: x * x\n",
        "print(square(5))  # Output: 25\n",
        " Ways to Call a Function\n",
        "Once a function is defined, it can be called in different ways:\n",
        "\n",
        "1. Positional Arguments\n",
        "\n",
        "def divide(a, b):\n",
        "    return a / b\n",
        "\n",
        "print(divide(10, 2))  # Output: 5.0\n",
        "2. Keyword Arguments\n",
        "\n",
        "print(divide(b=2, a=10))  # Output: 5.0\n",
        "3. Using *args and **kwargs in Calls\n",
        "\n",
        "def multiply(a, b):\n",
        "    return a * b\n",
        "\n",
        "args = (4, 5)\n",
        "print(multiply(*args))  # Output: 20\n",
        "\n",
        "kwargs = {'a': 6, 'b': 7}\n",
        "print(multiply(**kwargs))  # Output: 42\n",
        " Function as Argument to Another Function\n",
        "\n",
        "def shout(text):\n",
        "    return text.upper()\n",
        "\n",
        "def speak(func, message):\n",
        "    print(func(message))"
      ],
      "metadata": {
        "id": "_EDox7VXVbTF"
      }
    },
    {
      "cell_type": "markdown",
      "source": [
        "QUESTION 4. What is the purpose of the `return` statement in a Python function?\n",
        "\n",
        "Answer-- Purpose of the return Statement in Python\n",
        "The return statement is used to send a result back from a function to the place where it was called. It also ends the function’s execution immediately.\n",
        "\n",
        " Key Purposes of return:\n",
        "Send data back to the caller.\n",
        "\n",
        "End the function early.\n",
        "\n",
        "Enable reuse of computed results.\n",
        "\n",
        "Allow chaining or storing results.\n",
        "\n",
        "Basic Syantx\n",
        "def function_name():\n",
        "    return value\n",
        "\n",
        "EXAMPLES\n",
        "\n",
        "1. Returning a Value\n",
        "def add(a, b):\n",
        "    return a + b\n",
        "\n",
        "result = add(3, 5)\n",
        "print(result)  # Output: 8\n",
        "\n",
        "2. Returning Multiple Values\n",
        "def get_stats(numbers):\n",
        "    return min(numbers), max(numbers), sum(numbers)\n",
        "\n",
        "low, high, total = get_stats([3, 8, 1, 5])\n",
        "print(low, high, total)  # Output: 1 8 17\n",
        "\n",
        "3. Returning a Boolean Value\n",
        "def is_even(n):\n",
        "    return n % 2 == 0\n",
        "\n",
        "print(is_even(4))  # Output: True\n",
        "print(is_even(5))  # Output: False\n",
        "\n",
        "4. Returning Nothing (Default return is None)\n",
        "def greet(name):\n",
        "    print(f\"Hello, {name}!\")\n",
        "\n",
        "result = greet(\"Alice\")\n",
        "print(result)  # Output: None\n",
        "\n",
        "\n",
        "5. Using return to Exit Early\n",
        "def check_number(n):\n",
        "    if n < 0:\n",
        "        return \"Negative number\"\n",
        "    return \"Positive number or zero\"\n",
        "\n",
        "print(check_number(-5))  # Output: Negative number"
      ],
      "metadata": {
        "id": "Ub1sLpDBV4GV"
      }
    },
    {
      "cell_type": "markdown",
      "source": [
        "5. What are iterators in Python and how do they differ from iterables?\n",
        "\n",
        "Answer-- Iterators vs Iterables in Python\n",
        "Understanding the difference between iterables and iterators is key to working with loops, generators, and many Python data structures.\n",
        "\n",
        " What is an Iterable?\n",
        "An iterable is any object in Python that can return its elements one at a time.\n",
        "Examples: lists, tuples, strings, sets, dictionaries, etc.\n",
        "\n",
        " An iterable implements the __iter__() method\n",
        "\n",
        "What is an Iterator?\n",
        "An iterator is an object that remembers its position and can return the next item in a sequence using the __next__() method.\n",
        "\n",
        " It implements both __iter__() and __next__()."
      ],
      "metadata": {
        "id": "p21ubknSWBFL"
      }
    },
    {
      "cell_type": "markdown",
      "source": [
        "6. Explain the concept of generators in Python and how they are defined.\n",
        "Answer-- 1. Iterable Example (List)\n",
        "my_list = [1, 2, 3]\n",
        "\n",
        "for item in my_list:  # my_list is iterable\n",
        "    print(item)\n",
        "\n",
        "2. Convert Iterable to Iterator using iter()\n",
        "python\n",
        "Copy code\n",
        "my_list = [10, 20, 30]\n",
        "\n",
        "it = iter(my_list)  # it is now an iterator\n",
        "\n",
        "print(next(it))  # Output: 10\n",
        "print(next(it))  # Output: 20\n",
        "print(next(it))  # Output: 30\n",
        "Calling next() again after the last item will raise StopIteration.\n",
        "\n",
        "3. Creating a Custom Iterator\n",
        "class CountDown:\n",
        "    def __init__(self, start):\n",
        "        self.num = start\n",
        "\n",
        "    def __iter__(self):\n",
        "        return self\n",
        "\n",
        "    def __next__(self):\n",
        "        if self.num <= 0:\n",
        "            raise StopIteration\n",
        "        current = self.num\n",
        "        self.num -= 1\n",
        "        return current\n",
        "\n",
        "cd = CountDown(3)\n",
        "\n",
        "for number in cd:\n",
        "    print(number)\n",
        "\n",
        "Output\n",
        "3\n",
        "2\n",
        "1"
      ],
      "metadata": {
        "id": "3MlZG3WHWLLa"
      }
    },
    {
      "cell_type": "markdown",
      "source": [
        "7. What are the advantages of using generators over regular functions?\n",
        "Answer-- Advantages of Using Generators Over Regular Functions in Python\n",
        "Generators are a special type of function that allow you to yield values one at a time, using the yield keyword, instead of returning them all at once. This provides several advantages, especially when working with large datasets or infinite sequences.\n",
        "Key Advantages of Generators\n",
        "1.  Memory Efficient\n",
        "Generators produce values one at a time, so they don’t store the entire result in memory.\n",
        "\n",
        " Example:\n",
        "def count_up_to(n):\n",
        "    i = 1\n",
        "    while i <= n:\n",
        "        yield i\n",
        "        i += 1\n",
        "\n",
        "gen = count_up_to(1_000_000)\n",
        "\n",
        "print(next(gen))  # Output: 1\n",
        "# Only one number is held in memory at a time\n",
        "\n",
        "2.  Faster Start Time\n",
        "Generators start producing values immediately, without building the entire result first.\n",
        "\n",
        "3.  Infinite Sequences Possible\n",
        "Generators can handle infinite sequences because they generate one item at a time.\n",
        "\n",
        "4. Cleaner Code for Pipelines and Lazy Evaluation\n",
        "Generators are great for data processing pipelines where results are passed through multiple steps lazily.\n",
        "\n",
        "def even_numbers(numbers):\n",
        "    for num in numbers:\n",
        "        if num % 2 == 0:\n",
        "            yield num\n",
        "\n",
        "nums = range(10)\n",
        "evens = even_numbers(nums)\n",
        "\n",
        "for e in evens:\n",
        "    print(e)  # Output: 0, 2, 4, 6, 8\n",
        "\n",
        "\n",
        "def infinite_count(start=1):\n",
        "    while True:\n",
        "        yield start\n",
        "        start += 1\n",
        "\n",
        "counter = infinite_count()\n",
        "\n",
        "print(next(counter))  # Output: 1\n",
        "print(next(counter))  # Output: 2\n",
        "# And so on...\n",
        "\n",
        "def generate_numbers():\n",
        "    for i in range(5):\n",
        "        yield i\n",
        "\n",
        "for num in generate_numbers():  # Starts instantly\n",
        "    print(num)\n",
        "\n",
        "When to Use Generators:\n",
        "When handling large datasets\n",
        "\n",
        "When processing infinite sequences\n",
        "\n",
        "When you want to optimize memory use\n",
        "\n",
        "When you want to stream data rather than load it all at once"
      ],
      "metadata": {
        "id": "n-NMrNQcWRGj"
      }
    },
    {
      "cell_type": "markdown",
      "source": [
        "8. What is a lambda function in Python and when is it typically used?\n",
        "Answer--\n",
        "A lambda function in Python is a small anonymous function defined using the lambda keyword. It can have any number of arguments, but only one expression.\n",
        "\n",
        "It's also called:\n",
        "\n",
        "An anonymous function (no name)\n",
        "\n",
        "A throwaway function (often used only once)\n",
        "\n",
        " Syntax of Lambda Function:\n",
        "lambda arguments: expression\n",
        "\n",
        "Example 1: Simple Lambda\n",
        "square = lambda x: x * x\n",
        "print(square(5))  # Output: 25\n",
        "\n",
        "Example 2: Lambda with Multiple Arguments\n",
        "add = lambda a, b: a + b\n",
        "print(add(3, 4))  # Output: 7\n",
        "\n",
        "Typical Uses of Lambda Functions\n",
        "Lambda functions are usually used when you need a short function for a short time, often as an argument to higher-order functions like:\n",
        "\n",
        "1. Used with map()\n",
        "numbers = [1, 2, 3, 4]\n",
        "squares = list(map(lambda x: x * x, numbers))\n",
        "print(squares)  # Output: [1, 4, 9, 16]\n",
        "\n",
        "2. Used with filter()\n",
        "nums = [1, 2, 3, 4, 5, 6]\n",
        "even_nums = list(filter(lambda x: x % 2 == 0, nums))\n",
        "print(even_nums)  # Output: [2, 4, 6]\n",
        "\n",
        "3. Used with sorted()\n",
        "names = ['Alice', 'Bob', 'Charlie']\n",
        "# Sort by length of name\n",
        "sorted_names = sorted(names, key=lambda x: len(x))\n",
        "print(sorted_names)  # Output: ['Bob', 'Alice]\n",
        "\n",
        "4. Used in GUI or Callback Functions\n",
        "button = lambda: print(\"Clicked!\")\n",
        "button()  # Output: Clicked!"
      ],
      "metadata": {
        "id": "uddvkSvUWa4K"
      }
    },
    {
      "cell_type": "markdown",
      "source": [
        "9. Explain the purpose and usage of the `map()` function in Python.\n",
        "Answer--\n",
        "The map() function in Python is used to apply a function to every item in an iterable (like a list or tuple) and return a map object (an iterator) with the results\n",
        "\n",
        "SYNTAX:\n",
        "map(function, iterable)\n",
        "\n",
        "function: A function to apply (can be a def function or lambda).\n",
        "\n",
        "iterable: A sequence (e.g., list, tuple, set).\n",
        "\n",
        "Example 1: Using map() with a Built-in Function\n",
        "\n",
        "nums = [1, 2, 3, 4]\n",
        "squared = map(pow, nums, [2]*len(nums))  # Raise each to the power of 2\n",
        "print(list(squared))  # Output: [1, 4, 9, 16]\n",
        "\n",
        "Example 2: Using map() with a Lambda Function\n",
        "\n",
        "nums = [1, 2, 3, 4]\n",
        "squares = map(lambda x: x * x, nums)\n",
        "print(list(squares))  # Output: [1, 4, 9, 16]"
      ],
      "metadata": {
        "id": "1xlXcibYWtMK"
      }
    },
    {
      "cell_type": "markdown",
      "source": [
        "10. What is the difference between `map()`, `reduce()` and `filter()` functions in Python?\n",
        "Answer-- map()\tApplies a function to each item it returns\tIterator\tcommon use to Transform values\n",
        "\n",
        "filter()\tFilters items based on a condition\treturns Iterator\tcommon use for Keep selected values\n",
        "reduce()\tReduces iterable to a single value return\tSingle value\tcommon use for Combine all items\n",
        "\n",
        "map() – Transform Each Item\n",
        "Applies a function to every item in an iterable.\n",
        "\n",
        "\n",
        "nums = [1, 2, 3, 4]\n",
        "squared = map(lambda x: x * x, nums)\n",
        "print(list(squared))  # Output: [1, 4, 9, 16]\n",
        "\n",
        "filter() – Select Items Based on a Condition\n",
        "Applies a function that returns True/False, and keeps only True values.\n",
        "\n",
        "\n",
        "nums = [1, 2, 3, 4, 5, 6]\n",
        "evens = filter(lambda x: x % 2 == 0, nums)\n",
        "print(list(evens))  # Output: [2, 4, 6]\n",
        "\n",
        "reduce() – Collapse the List into a Single Value\n",
        "Combines items from left to right using a function (e.g., sum, product).\n",
        "\n",
        "\n",
        "from functools import reduce\n",
        "\n",
        "nums = [1, 2, 3, 4]\n",
        "product = reduce(lambda x, y: x * y, nums)\n",
        "print(product)  # Output: 24"
      ],
      "metadata": {
        "id": "C2Lf3YBjW3Mz"
      }
    },
    {
      "cell_type": "markdown",
      "source": [],
      "metadata": {
        "id": "CK50KWDkW-_y"
      }
    }
  ]
}